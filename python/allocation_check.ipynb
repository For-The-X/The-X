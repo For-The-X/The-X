{
 "metadata": {
  "language_info": {
   "codemirror_mode": {
    "name": "ipython",
    "version": 3
   },
   "file_extension": ".py",
   "mimetype": "text/x-python",
   "name": "python",
   "nbconvert_exporter": "python",
   "pygments_lexer": "ipython3",
   "version": "3.8.5-final"
  },
  "orig_nbformat": 2,
  "kernelspec": {
   "name": "python385jvsc74a57bd00c393dfc3644d4faf7c84d77dbcd2e3c38caed8864261da513a0a80b452d5502",
   "display_name": "Python 3.8.5 64-bit"
  },
  "metadata": {
   "interpreter": {
    "hash": "0c393dfc3644d4faf7c84d77dbcd2e3c38caed8864261da513a0a80b452d5502"
   }
  }
 },
 "nbformat": 4,
 "nbformat_minor": 2,
 "cells": [
  {
   "cell_type": "code",
   "execution_count": 4,
   "metadata": {},
   "outputs": [],
   "source": [
    "import pandas as pd\n",
    "import psycopg2\n",
    "import datacompy"
   ]
  },
  {
   "cell_type": "code",
   "execution_count": null,
   "metadata": {},
   "outputs": [],
   "source": [
    "excel_path = r'C:\\check\\321242032-订量9000-ok.xlsx'"
   ]
  },
  {
   "cell_type": "code",
   "execution_count": 475,
   "metadata": {},
   "outputs": [],
   "source": [
    "excel_path = r'C:\\check'"
   ]
  },
  {
   "cell_type": "code",
   "execution_count": 481,
   "metadata": {},
   "outputs": [],
   "source": [
    "for filepath,dirnames,filenames in os.walk(excel_path):\n",
    "    for filename in filenames: \n",
    "        file_path = excel_path + filename"
   ]
  },
  {
   "cell_type": "code",
   "execution_count": null,
   "metadata": {},
   "outputs": [],
   "source": [
    "df = pd.read_excel(excel_path)"
   ]
  },
  {
   "cell_type": "code",
   "execution_count": 7,
   "metadata": {},
   "outputs": [],
   "source": [
    "cols = list(df)"
   ]
  },
  {
   "cell_type": "code",
   "execution_count": null,
   "metadata": {},
   "outputs": [],
   "source": [
    "i = 1\n",
    "size_cols = []\n",
    "for col in cols: \n",
    "    if col.find(\"Manual\") >=0 :  \n",
    "        new_col = \"size_{}\".format(i)\n",
    "        print(col,new_col)\n",
    "        df.rename(columns = {col:new_col},inplace=True)  \n",
    "        size_cols.append(new_col) \n",
    "        i = i + 1   \n",
    "print(i)"
   ]
  },
  {
   "cell_type": "code",
   "execution_count": null,
   "metadata": {},
   "outputs": [],
   "source": [
    "check_cols = ['PO ID','Style','Color Code','Org Code','Plan Shop Date']\n",
    "check_cols.extend(size_cols)\n",
    "print(check_cols)"
   ]
  },
  {
   "cell_type": "code",
   "execution_count": null,
   "metadata": {},
   "outputs": [],
   "source": [
    "excel_df = df.loc[:, check_cols]"
   ]
  },
  {
   "cell_type": "code",
   "execution_count": null,
   "metadata": {},
   "outputs": [],
   "source": [
    "style_ids = df['Style'].unique().tolist()\n",
    "color_ids = df['Color Code'].unique().tolist()\n",
    "print(color_ids)\n",
    "print(type(color_ids)) "
   ]
  },
  {
   "cell_type": "code",
   "execution_count": null,
   "metadata": {},
   "outputs": [],
   "source": [
    "style_ids_str = \"'\" + \"','\".join('%s' %i for i in style_ids)  + \"'\"\n",
    "color_ids_str = \"'\" + \"','\".join(color_ids)  + \"'\"\n",
    "print(color_ids_str)"
   ]
  },
  {
   "cell_type": "code",
   "execution_count": null,
   "metadata": {},
   "outputs": [],
   "source": [
    "conn = psycopg2.connect(database=\"linezone\", user=\"postgres\", password=\"Reorder_back-end@bestseller\", host=\"10.150.60.15\", port=\"5432\")\n",
    "cur = conn.cursor()"
   ]
  },
  {
   "cell_type": "code",
   "execution_count": null,
   "metadata": {},
   "outputs": [],
   "source": [
    "sql = \"\"\"\n",
    "with size_n as (\n",
    "select product_code,color_code,size_code \n",
    ",row_number() over(partition by product_code,color_code order by size_code ) n\n",
    "from rst.rst_sku  \n",
    "where product_code in ({0}) and color_code in ({1})\n",
    ")\n",
    "select po_id, cast(a.product_code as VARCHAR) product_code,a.color_code,store_code,put_on_date \n",
    ", sum(case when n = 1 then a.manual_alloc_qty end ) size_1\n",
    ", sum(case when n = 2 then a.manual_alloc_qty end ) size_2\n",
    ", sum(case when n = 3 then a.manual_alloc_qty end ) size_3\n",
    ", sum(case when n = 4 then a.manual_alloc_qty end ) size_4\n",
    ", sum(case when n = 5 then a.manual_alloc_qty end ) size_5\n",
    ", sum(case when n = 6 then a.manual_alloc_qty end ) size_6\n",
    ", sum(case when n = 7 then a.manual_alloc_qty end ) size_7\n",
    ", sum(case when n = 8 then a.manual_alloc_qty end ) size_8\n",
    ", sum(case when n = 9 then a.manual_alloc_qty end ) size_9 \n",
    "from rst.rst_allocation_result a \n",
    "inner join size_n s on a.product_code=s.product_code and a.color_code = s.color_code and a.size_code = s.size_code\n",
    "where a.product_code in ({0}) and a.color_code in ({1})\n",
    "group by po_id,cast(a.product_code as VARCHAR),a.color_code,store_code,put_on_date \n",
    "\"\"\".format(style_ids_str,color_ids_str) "
   ]
  },
  {
   "cell_type": "code",
   "execution_count": null,
   "metadata": {},
   "outputs": [],
   "source": [
    "cur.execute(sql)"
   ]
  },
  {
   "cell_type": "code",
   "execution_count": null,
   "metadata": {},
   "outputs": [],
   "source": [
    "rows = cur.fetchall() \n",
    "conn.close()"
   ]
  },
  {
   "cell_type": "code",
   "execution_count": null,
   "metadata": {
    "tags": []
   },
   "outputs": [],
   "source": [
    "result_df = pd.DataFrame(rows)\n",
    "result_df = result_df.loc[ 0: , 0:3+i]"
   ]
  },
  {
   "cell_type": "code",
   "execution_count": null,
   "metadata": {},
   "outputs": [],
   "source": [
    "result_df.columns = check_cols"
   ]
  },
  {
   "cell_type": "code",
   "execution_count": null,
   "metadata": {},
   "outputs": [],
   "source": [
    "excel_df = excel_df[excel_df[size_cols].notnull().any(axis=1)] "
   ]
  },
  {
   "cell_type": "code",
   "execution_count": null,
   "metadata": {},
   "outputs": [],
   "source": [
    "excel_df.loc[:,'Style'] = excel_df.loc[:,'Style'].apply(str)"
   ]
  },
  {
   "cell_type": "code",
   "execution_count": null,
   "metadata": {},
   "outputs": [],
   "source": [
    "compare = datacompy.Compare(excel_df,result_df,join_columns=['PO ID', 'Style','Color Code','Org Code','Plan Shop Date'])"
   ]
  },
  {
   "cell_type": "code",
   "execution_count": null,
   "metadata": {},
   "outputs": [],
   "source": [
    "print(compare.matches()) # 最后判断是否相等，返回 bool "
   ]
  },
  {
   "cell_type": "code",
   "execution_count": null,
   "metadata": {},
   "outputs": [],
   "source": [
    "print(compare.report()) # 打印报告详情，返回 string"
   ]
  },
  {
   "cell_type": "code",
   "execution_count": 9,
   "metadata": {},
   "outputs": [
    {
     "output_type": "stream",
     "name": "stdout",
     "text": [
      "C:\\check\\321242032-订量6000-ok.xlsx\n",
      "321242032-订量6000-ok.xlsx True\n",
      "C:\\check\\321242032-订量9000-ok.xlsx\n",
      "321242032-订量9000-ok.xlsx True\n"
     ]
    }
   ],
   "source": [
    "excel_path = r'C:\\check'\n",
    "\n",
    "for filepath,dirnames,filenames in os.walk(excel_path):\n",
    "    for filename in filenames: \n",
    "        file_path = excel_path + '\\\\' + filename\n",
    "        print(file_path)\n",
    "        df = pd.read_excel(file_path)\n",
    "        cols = list(df)\n",
    "        i = 1\n",
    "        size_cols = []\n",
    "\n",
    "        for col in cols: \n",
    "            if col.find(\"Manual\") >=0 :  \n",
    "                new_col = \"size_{}\".format(i)\n",
    "                df.rename(columns = {col:new_col},inplace=True)  \n",
    "                size_cols.append(new_col) \n",
    "                i = i + 1   \n",
    "\n",
    "        check_cols = ['PO ID','Style','Color Code','Org Code','Plan Shop Date']\n",
    "        check_cols.extend(size_cols) \n",
    "        excel_df = df.loc[:, check_cols]\n",
    "        style_ids = df['Style'].unique().tolist()\n",
    "        color_ids = df['Color Code'].unique().tolist()\n",
    "        style_ids_str = \"'\" + \"','\".join('%s' %i for i in style_ids)  + \"'\"\n",
    "        color_ids_str = \"'\" + \"','\".join(color_ids)  + \"'\"\n",
    "        conn = psycopg2.connect(database=\"linezone\", user=\"postgres\", password=\"Reorder_back-end@bestseller\", host=\"10.150.60.15\", port=\"5432\")\n",
    "        cur = conn.cursor()\n",
    "        sql = \"\"\"\n",
    "        with size_n as (\n",
    "        select product_code,color_code,size_code \n",
    "        ,row_number() over(partition by product_code,color_code order by size_code ) n\n",
    "        from rst.rst_sku  \n",
    "        where product_code in ({0}) and color_code in ({1})\n",
    "        )\n",
    "        select po_id, cast(a.product_code as VARCHAR) product_code,a.color_code,store_code,put_on_date \n",
    "        , sum(case when n = 1 then a.manual_alloc_qty end ) size_1\n",
    "        , sum(case when n = 2 then a.manual_alloc_qty end ) size_2\n",
    "        , sum(case when n = 3 then a.manual_alloc_qty end ) size_3\n",
    "        , sum(case when n = 4 then a.manual_alloc_qty end ) size_4\n",
    "        , sum(case when n = 5 then a.manual_alloc_qty end ) size_5\n",
    "        , sum(case when n = 6 then a.manual_alloc_qty end ) size_6\n",
    "        , sum(case when n = 7 then a.manual_alloc_qty end ) size_7\n",
    "        , sum(case when n = 8 then a.manual_alloc_qty end ) size_8\n",
    "        , sum(case when n = 9 then a.manual_alloc_qty end ) size_9 \n",
    "        from rst.rst_allocation_result a \n",
    "        inner join size_n s on a.product_code=s.product_code and a.color_code = s.color_code and a.size_code = s.size_code\n",
    "        where a.product_code in ({0}) and a.color_code in ({1})\n",
    "        group by po_id,cast(a.product_code as VARCHAR),a.color_code,store_code,put_on_date \n",
    "        \"\"\".format(style_ids_str,color_ids_str) \n",
    "        cur.execute(sql)\n",
    "        rows = cur.fetchall() \n",
    "        conn.close()\n",
    "        result_df = pd.DataFrame(rows)\n",
    "        result_df = result_df.loc[ 0: , 0:3+i]\n",
    "        result_df.columns = check_cols\n",
    "        excel_df = excel_df[excel_df[size_cols].notnull().any(axis=1)] \n",
    "        excel_df.loc[:,'Style'] = excel_df.loc[:,'Style'].apply(str)\n",
    "        compare = datacompy.Compare(excel_df,result_df,join_columns=['PO ID', 'Style','Color Code','Org Code','Plan Shop Date'])\n",
    "        print(filename , compare.matches()) # 最后判断是否相等，返回 bool \n",
    "        if compare.matches() == False:\n",
    "            print(compare.report()) # 打印报告详情，返回 string"
   ]
  },
  {
   "cell_type": "code",
   "execution_count": null,
   "metadata": {},
   "outputs": [],
   "source": []
  }
 ]
}