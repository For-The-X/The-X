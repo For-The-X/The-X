{
 "metadata": {
  "language_info": {
   "codemirror_mode": {
    "name": "ipython",
    "version": 3
   },
   "file_extension": ".py",
   "mimetype": "text/x-python",
   "name": "python",
   "nbconvert_exporter": "python",
   "pygments_lexer": "ipython3",
   "version": 3
  },
  "orig_nbformat": 2
 },
 "nbformat": 4,
 "nbformat_minor": 2,
 "cells": [
  {
   "cell_type": "code",
   "execution_count": null,
   "metadata": {},
   "outputs": [],
   "source": [
    "import requests\n",
    "import json\n",
    "url=r'https://gank.io/api/v2/banners'"
   ]
  },
  {
   "cell_type": "code",
   "execution_count": null,
   "metadata": {},
   "outputs": [],
   "source": [
    "req = requests.get(url, timeout=30) # 请求连接\n",
    "print(req)\n",
    "type(req)"
   ]
  },
  {
   "cell_type": "code",
   "execution_count": null,
   "metadata": {},
   "outputs": [],
   "source": [
    "text = json.loads(req.text)\n",
    "print(type(text))\n",
    "print(text)"
   ]
  },
  {
   "cell_type": "code",
   "execution_count": null,
   "metadata": {},
   "outputs": [],
   "source": [
    "datas = text['data']\n",
    "print(datas)\n",
    "print(len(datas))"
   ]
  },
  {
   "cell_type": "code",
   "execution_count": null,
   "metadata": {},
   "outputs": [],
   "source": [
    "results = []\n",
    "for i in range(len(datas)):\n",
    "    #需要获取商品的字段\n",
    "    data = [ datas[i]['image'], datas[i]['title'], datas[i]['url'] ]\n",
    "    results.append(data)\n",
    "print(results)"
   ]
  },
  {
   "cell_type": "code",
   "execution_count": null,
   "metadata": {},
   "outputs": [],
   "source": [
    "#每获取一页商品信息执行一次插入语句\n",
    "    writeSql = \"INSERT INTO jtuituiapi (JID,goods_id,goods_name,goods_price,goods_link,\" \\\n",
    "        \"discount_price,coupon_price,commission,cid1Name)\" \\\n",
    "    \"VALUES (%s, %s, %s,%s, %s, %s,%s, %s, %s )\"\n",
    "    param = results\n",
    "    print(writeSql)\n",
    "    cur1.executemany(writeSql, param)\n",
    "    conn1.commit()"
   ]
  }
 ]
}