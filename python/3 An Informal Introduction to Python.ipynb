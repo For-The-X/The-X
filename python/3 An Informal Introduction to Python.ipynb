{
 "metadata": {
  "language_info": {
   "codemirror_mode": {
    "name": "ipython",
    "version": 3
   },
   "file_extension": ".py",
   "mimetype": "text/x-python",
   "name": "python",
   "nbconvert_exporter": "python",
   "pygments_lexer": "ipython3",
   "version": "3.8.5-final"
  },
  "orig_nbformat": 2,
  "kernelspec": {
   "name": "python385jvsc74a57bd00c393dfc3644d4faf7c84d77dbcd2e3c38caed8864261da513a0a80b452d5502",
   "display_name": "Python 3.8.5 64-bit"
  },
  "metadata": {
   "interpreter": {
    "hash": "0c393dfc3644d4faf7c84d77dbcd2e3c38caed8864261da513a0a80b452d5502"
   }
  }
 },
 "nbformat": 4,
 "nbformat_minor": 2,
 "cells": [
  {
   "source": [
    "tax = 12.5 /100\n",
    "price = 100.50\n",
    "price * tax "
   ],
   "cell_type": "code",
   "metadata": {},
   "execution_count": null,
   "outputs": []
  },
  {
   "source": [
    "# the last printed expression is assigned to the variable '_'\n",
    "price + _ "
   ],
   "cell_type": "code",
   "metadata": {},
   "execution_count": null,
   "outputs": []
  },
  {
   "source": [
    "# '\\' can be used to escape quotes \n",
    "print(\"\\\"Yes,\\\" they said.\")\n",
    "print(\"doesn't\")\n",
    "print('C:\\some\\name')\n",
    "# use raw strings by adding an 'r' befor the quote\n",
    "print(r'C:\\some\\name')"
   ],
   "cell_type": "code",
   "metadata": {},
   "execution_count": 1,
   "outputs": [
    {
     "output_type": "stream",
     "name": "stdout",
     "text": [
      "\"Yes,\" they said.\ndoesn't\nC:\\some\name\nC:\\some\\name\n"
     ]
    }
   ]
  },
  {
   "cell_type": "code",
   "execution_count": null,
   "metadata": {},
   "outputs": [],
   "source": [
    "# End of lines are excluded in the string by adding a '\\' at the end of the line\n",
    "print(\"\"\"\\\n",
    "Usage: thingy [OPTIONS]\n",
    "     -h                        Display this usage message\n",
    "     -H hostname               Hostname to connect to\n",
    "\"\"\")"
   ]
  },
  {
   "cell_type": "code",
   "execution_count": null,
   "metadata": {},
   "outputs": [],
   "source": [
    "# string literals next to each other are automatically concatenated\n",
    "print('py' 'thon')\n",
    "# strings can be concatenated (glued together) with the '+' opeartor , and repeated with '*'\n",
    "print(3*'ab' 'c')\n",
    "print(3*'ab'+'c')"
   ]
  },
  {
   "cell_type": "code",
   "execution_count": null,
   "metadata": {},
   "outputs": [],
   "source": [
    "# This feature() is particularly useful when you want to break long strings\n",
    "text = ( 'put several string within parentheses '\n",
    "'to have them joined together.')\n",
    "print(text)"
   ]
  },
  {
   "cell_type": "code",
   "execution_count": 25,
   "metadata": {},
   "outputs": [
    {
     "output_type": "stream",
     "name": "stdout",
     "text": [
      "Python\nPy\nt\nyt\n\n"
     ]
    }
   ],
   "source": [
    "#  +---+---+---+---+---+---+\n",
    "#  | P | y | t | h | o | n |\n",
    "#  +---+---+---+---+---+---+\n",
    "#  0   1   2   3   4   5   6\n",
    "# -6  -5  -4  -3  -2  -1\n",
    "word = 'Python'\n",
    "print(word[:])\n",
    "print(word[:2])\n",
    "print(word[2])\n",
    "print(word[1:3])\n",
    "print(word[6:]) "
   ]
  },
  {
   "cell_type": "code",
   "execution_count": null,
   "metadata": {},
   "outputs": [],
   "source": [
    "# Atempting to use an index that is to large will result in an error\r\n",
    "print(word[42]) "
   ]
  },
  {
   "cell_type": "code",
   "execution_count": 23,
   "metadata": {},
   "outputs": [
    {
     "output_type": "stream",
     "name": "stdout",
     "text": [
      "\n"
     ]
    }
   ],
   "source": [
    "# However,out of range slice indexes are handled gracefully when used for slicing\n",
    "print(word[42:]) "
   ]
  },
  {
   "cell_type": "code",
   "execution_count": 24,
   "metadata": {},
   "outputs": [
    {
     "output_type": "execute_result",
     "data": {
      "text/plain": [
       "34"
      ]
     },
     "metadata": {},
     "execution_count": 24
    }
   ],
   "source": [
    "# the built-in function len() returns the lenght of a string\n",
    "s = 'supercalifragilisticexpialidocious'\n",
    "len(s)"
   ]
  },
  {
   "cell_type": "code",
   "execution_count": 53,
   "metadata": {},
   "outputs": [
    {
     "output_type": "stream",
     "name": "stdout",
     "text": [
      "[1, 4, 9, 16, 25, 36, 49, 64, 81, 100]\n[1, 4, 9, 64, 25]\n[1, 4, 9, 64, 25, 128, 343]\n[1, 4, 'C', 'D', 'E', 128, 343]\n[1, 4, 128, 343]\n[['a', 'b', 'c'], [1, 4, 128, 343]]\n"
     ]
    },
    {
     "output_type": "execute_result",
     "data": {
      "text/plain": [
       "'b'"
      ]
     },
     "metadata": {},
     "execution_count": 53
    }
   ],
   "source": [
    "squares = [1, 4, 9, 16, 25]\n",
    "print(squares + [36, 49, 64, 81, 100])\n",
    "squares[3] = 64\n",
    "print(squares)\n",
    "squares.append(128)\n",
    "squares.append( 7 ** 3)\n",
    "print(squares)\n",
    "squares[2:5] = ['C', 'D', 'E']\n",
    "print(squares)\n",
    "squares[2:5] = []\n",
    "print(squares)\n",
    "len(squares)\n",
    "a = ['a', 'b', 'c']\n",
    "x = [a,squares]\n",
    "print(x)\n",
    "x[0][1]"
   ]
  },
  {
   "cell_type": "code",
   "execution_count": 28,
   "metadata": {},
   "outputs": [
    {
     "output_type": "stream",
     "name": "stdout",
     "text": [
      "0,1,1,2,3,5,8,13,21,34,55,89,144,233,377,610,987,"
     ]
    }
   ],
   "source": [
    "#The keyword argument 'end' can be used to avoid the newline after the output, or end the output with a different string\n",
    "a, b = 0, 1\n",
    "while a < 1000:\n",
    "    print(a, end=',')\n",
    "    a, b = b, a+b"
   ]
  },
  {
   "cell_type": "code",
   "execution_count": null,
   "metadata": {},
   "outputs": [],
   "source": []
  }
 ]
}